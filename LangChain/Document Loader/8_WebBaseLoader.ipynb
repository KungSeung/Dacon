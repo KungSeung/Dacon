{
 "cells": [
  {
   "cell_type": "markdown",
   "id": "bd57ae54",
   "metadata": {},
   "source": [
    "WebBaseLoader"
   ]
  },
  {
   "cell_type": "code",
   "execution_count": null,
   "id": "b66f9afa",
   "metadata": {},
   "outputs": [],
   "source": [
    "# bs4 라이브러리를 사용하여 파싱할 요소를 지정\n",
    "# 1. bs4.SoupStrainer를 사용하여 파싱할 요소 지정\n",
    "# 2. bs_kwargs 매개변수를 사용하여 bs4.SoupStrainer의 추가적인 인수를 지정\n",
    "\n",
    "import bs4\n",
    "from langchain_community.document_loaders import WebBaseLoader\n",
    "\n"
   ]
  }
 ],
 "metadata": {
  "kernelspec": {
   "display_name": "Python 3",
   "language": "python",
   "name": "python3"
  },
  "language_info": {
   "name": "python",
   "version": "3.11.5"
  }
 },
 "nbformat": 4,
 "nbformat_minor": 5
}
