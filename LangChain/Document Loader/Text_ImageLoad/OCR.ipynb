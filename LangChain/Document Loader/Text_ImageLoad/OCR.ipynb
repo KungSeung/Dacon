{
 "cells": [
  {
   "cell_type": "markdown",
   "id": "0eb18ca2",
   "metadata": {},
   "source": [
    "Image Load\n"
   ]
  },
  {
   "cell_type": "code",
   "execution_count": null,
   "id": "f621b8bc",
   "metadata": {},
   "outputs": [],
   "source": [
    "# Use EasyOCR\n",
    "\n",
    "import easyocr"
   ]
  }
 ],
 "metadata": {
  "kernelspec": {
   "display_name": "Python 3",
   "language": "python",
   "name": "python3"
  },
  "language_info": {
   "name": "python",
   "version": "3.11.5"
  }
 },
 "nbformat": 4,
 "nbformat_minor": 5
}
