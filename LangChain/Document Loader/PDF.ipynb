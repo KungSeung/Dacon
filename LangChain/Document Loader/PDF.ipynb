{
 "cells": [
  {
   "cell_type": "code",
   "execution_count": 1,
   "id": "1b715a4d",
   "metadata": {},
   "outputs": [
    {
     "data": {
      "text/plain": [
       "False"
      ]
     },
     "execution_count": 1,
     "metadata": {},
     "output_type": "execute_result"
    }
   ],
   "source": [
    "# API KEY를 환경변수로 관리하기 위한 설정 파일\n",
    "from dotenv import load_dotenv\n",
    "\n",
    "# API KEY 정보로드\n",
    "load_dotenv()"
   ]
  },
  {
   "cell_type": "code",
   "execution_count": 2,
   "id": "4f1de854",
   "metadata": {},
   "outputs": [],
   "source": [
    "File_Path = './test.pdf'\n",
    "\n",
    "def show_metadata(docs):\n",
    "    if docs:\n",
    "        print(\"[metadata]\")\n",
    "        print(list(docs[0].metadata.keys()))\n",
    "        print('\\n[examples]')\n",
    "        max_key_length = max(len(k) for k in docs[0].metadata.keys())\n",
    "        for k, v in docs[0].metadata.items():\n",
    "            print(f\"{k:<{max_key_length}} : {v}\")"
   ]
  },
  {
   "cell_type": "markdown",
   "id": "f8e8730d",
   "metadata": {},
   "source": [
    "PyPDF"
   ]
  },
  {
   "cell_type": "code",
   "execution_count": 3,
   "id": "23de200b",
   "metadata": {},
   "outputs": [
    {
     "name": "stdout",
     "output_type": "stream",
     "text": [
      "50 회  기 출 문 제\n",
      "11\n",
      "[SQL]\n",
      "문제는  두  테이블을  별다른  조건없이  union 했다 .\n",
      "두  테이블은  게임이용내역 , 이용일자와  커뮤니티이용내역 , 이용일자로  구분된것  같\n",
      "다 .\n",
      "A 테이블  관계  B 테이블  이렇게  있으면  1 개  이상 , 선택사양 o : 1 ( 관계 ) 1 : 1 개 \n",
      "이상 , 선택사양 o 였다 .\n",
      "* 레프트아우터조인 , 라이트아우터조인 , 풀아우터조인  union, union all, 정\n",
      "렬 , distinct, nvl 등  보기의  sql 문이  매우  복잡\n",
      "■ 문제  35. 올\n"
     ]
    }
   ],
   "source": [
    "from langchain_community.document_loaders import PyPDFLoader\n",
    "\n",
    "loader = PyPDFLoader(File_Path)\n",
    "docs = loader.load()\n",
    "print(docs[10].page_content[:300])"
   ]
  },
  {
   "cell_type": "code",
   "execution_count": 4,
   "id": "1c8ef7d5",
   "metadata": {},
   "outputs": [
    {
     "name": "stdout",
     "output_type": "stream",
     "text": [
      "[metadata]\n",
      "['producer', 'creator', 'creationdate', 'moddate', 'source', 'total_pages', 'page', 'page_label']\n",
      "\n",
      "[examples]\n",
      "producer     : Skia/PDF m119\n",
      "creator      : Chromium\n",
      "creationdate : 2024-03-13T13:09:58+00:00\n",
      "moddate      : 2024-03-13T13:09:58+00:00\n",
      "source       : ./test.pdf\n",
      "total_pages  : 16\n",
      "page         : 0\n",
      "page_label   : 1\n"
     ]
    }
   ],
   "source": [
    "# 메타데이터 출력\n",
    "show_metadata(docs)"
   ]
  },
  {
   "cell_type": "markdown",
   "id": "aa0fd22e",
   "metadata": {},
   "source": [
    "PyPDF(OCR)\n"
   ]
  },
  {
   "cell_type": "code",
   "execution_count": 5,
   "id": "cc10404e",
   "metadata": {},
   "outputs": [
    {
     "name": "stdout",
     "output_type": "stream",
     "text": [
      "Learning to Predict Salient Faces: A Novel Visual-Audio Saliency Model 5\n",
      "-0.1\n",
      "-0.3 \n",
      "0.1\n",
      "0.3\n",
      "0.5\n",
      "0.7\n",
      "0.9\n",
      "1.1\n",
      "1.3\n",
      "1.5\n",
      "mouth nose eyes\n",
      "NSS\n",
      "Facial regions\n",
      "MUFVET\n",
      "Ours\n",
      "(a)\n",
      "0.3\n",
      "0.5\n",
      "0.7\n",
      "0.9\n",
      "1.1\n",
      "1.3\n",
      "1.5\n",
      "1.7\n",
      "non tallking face          talking face  whole  region\n",
      "Contextual NSS\n",
      "MUVFET \n",
      "Ours (b)\n",
      "Fig. 2: (a) NS\n"
     ]
    }
   ],
   "source": [
    "# 일부 PDF에는 스캔된 문서나 그림 내에 텍스트 이미지가 포함되어 있습니다\n",
    "# rapicor-onnxruntime 패키지를 사용해서 이미지에서 텍스트 추출 가능\n",
    "\n",
    "loader = PyPDFLoader(\"https://arxiv.org/pdf/2103.15438.pdf\", extract_images=True)\n",
    "docs = loader.load()\n",
    "print(docs[4].page_content[:300])"
   ]
  },
  {
   "cell_type": "code",
   "execution_count": null,
   "id": "bc6d7844",
   "metadata": {},
   "outputs": [],
   "source": []
  }
 ],
 "metadata": {
  "kernelspec": {
   "display_name": "Python 3",
   "language": "python",
   "name": "python3"
  },
  "language_info": {
   "codemirror_mode": {
    "name": "ipython",
    "version": 3
   },
   "file_extension": ".py",
   "mimetype": "text/x-python",
   "name": "python",
   "nbconvert_exporter": "python",
   "pygments_lexer": "ipython3",
   "version": "3.11.5"
  }
 },
 "nbformat": 4,
 "nbformat_minor": 5
}
