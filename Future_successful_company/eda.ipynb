{
 "cells": [
  {
   "cell_type": "markdown",
   "id": "f9c34550",
   "metadata": {},
   "source": [
    "<h2>주제</h2>\n",
    "\n",
    "기업의 성공 확률 예측 AI 알고리즘 개발</br>\n",
    "\n",
    "기업의 다양한 데이터를 기반으로 기업의 성공 여부를 분류하는 AI 알고리즘을 개발해보세요!</br>"
   ]
  },
  {
   "cell_type": "markdown",
   "id": "00aeae26",
   "metadata": {},
   "source": [
    "<h2>EDA</h2>"
   ]
  },
  {
   "cell_type": "code",
   "execution_count": null,
   "id": "5c963bb7",
   "metadata": {},
   "outputs": [
    {
     "name": "stdout",
     "output_type": "stream",
     "text": [
      "ID                   0\n",
      "설립연도                 0\n",
      "국가                   0\n",
      "분야                 857\n",
      "투자단계                 0\n",
      "직원 수               174\n",
      "인수여부                 0\n",
      "상장여부                 0\n",
      "고객수(백만명)          1320\n",
      "총 투자금(억원)            0\n",
      "연매출(억원)              0\n",
      "SNS 팔로워 수(백만명)       0\n",
      "기업가치(백억원)         1220\n",
      "성공확률                 0\n",
      "dtype: int64\n"
     ]
    }
   ],
   "source": [
    "# %pip install pytorch-tabnet\n",
    "\n",
    "import pandas as pd\n",
    "import numpy as np\n",
    "\n",
    "from sklearn.preprocessing import LabelEncoder\n",
    "from sklearn.model_selection import KFold\n",
    "\n",
    "import torch\n",
    "from pytorch_tabnet.pretraining import TabNetPretrainer\n",
    "from pytorch_tabnet.tab_model import TabNetRegressor\n",
    "\n",
    "train = pd.read_csv('train.csv')\n",
    "test = pd.read_csv('test.csv')\n",
    "sample_submission = pd.read_csv('sample_submission.csv')\n",
    "print(train.isnull().sum())\n"
   ]
  },
  {
   "cell_type": "markdown",
   "id": "4629094b",
   "metadata": {},
   "source": [
    "<h2>전처리</h2>\n",
    "\n",
    "Baseline Code</br>\n",
    "한번 실행을 해야 값이 다 수치값으로 바뀌게 된다."
   ]
  },
  {
   "cell_type": "code",
   "execution_count": 3,
   "id": "3337338f",
   "metadata": {},
   "outputs": [
    {
     "name": "stderr",
     "output_type": "stream",
     "text": [
      "/var/folders/d4/sthv_klj36vblf3ghqbtf9br0000gn/T/ipykernel_1222/2865176146.py:19: FutureWarning: Downcasting object dtype arrays on .fillna, .ffill, .bfill is deprecated and will change in a future version. Call result.infer_objects(copy=False) instead. To opt-in to the future behavior, set `pd.set_option('future.no_silent_downcasting', True)`\n",
      "  train[feature] = train[feature].fillna('Missing')\n",
      "/var/folders/d4/sthv_klj36vblf3ghqbtf9br0000gn/T/ipykernel_1222/2865176146.py:20: FutureWarning: Downcasting object dtype arrays on .fillna, .ffill, .bfill is deprecated and will change in a future version. Call result.infer_objects(copy=False) instead. To opt-in to the future behavior, set `pd.set_option('future.no_silent_downcasting', True)`\n",
      "  test[feature] = test[feature].fillna('Missing')\n"
     ]
    }
   ],
   "source": [
    "#특성과 타겟 변수 분리\n",
    "train = train.drop(columns=['ID'], axis = 1)\n",
    "test = test.drop(columns=['ID'], axis = 1)\n",
    "\n",
    "# 설립연도 타입 변환 (int -> object)\n",
    "train['설립연도'] =train['설립연도'].astype('object')\n",
    "test['설립연도'] =test['설립연도'].astype('object')\n",
    "\n",
    "category_features = ['설립연도','국가','분야','투자단계','기업가치(백억원)']\n",
    "numeric_features = ['직원 수','고객수(백만명)','총 투자금(억원)','연매출(억원)','SNS 팔로워 수(백만명)']\n",
    "bool_features = ['인수여부','상장여부']\n",
    "\n",
    "# LabelEncoder 객체를 각 범주형 feature별로 따로 저장하여 사용\n",
    "encoders = {}\n",
    "\n",
    "# 범주형 데이터를 encoding\n",
    "for feature in category_features:\n",
    "    encoders[feature] = LabelEncoder()\n",
    "    train[feature] = train[feature].fillna('Missing')\n",
    "    test[feature] = test[feature].fillna('Missing')\n",
    "    train[feature] = encoders[feature].fit_transform(train[feature])\n",
    "    test[feature] = encoders[feature].transform(test[feature])\n",
    "\n",
    "# 불리언 값을 0과 1로 변환 ('Yes' → 1, 'No' → 0 으로 변환)\n",
    "bool_map = {'Yes': 1, 'No': 0}\n",
    "\n",
    "for feature in bool_features:\n",
    "    train[feature] = train[feature].map(bool_map)\n",
    "    test[feature] = test[feature].map(bool_map)\n",
    "\n",
    "# 수치형 변수 결측치를 평균값으로 대체\n",
    "for feature in numeric_features:\n",
    "    mean_value = train[feature].mean()\n",
    "    train[feature] = train[feature].fillna(mean_value)\n",
    "    test[feature] = test[feature].fillna(mean_value)\n",
    "\n",
    "# TabNet용 범주형 변수 인덱스(cat_idxs) 및 차원(cat_dims) 설정\n",
    "features = [col for col in train.columns if col != '성공확률']\n",
    "cat_idxs = [features.index(col) for col in category_features]\n",
    "cat_dims = [train[col].max() + 1 for col in category_features]"
   ]
  },
  {
   "cell_type": "code",
   "execution_count": 4,
   "id": "cedcab49",
   "metadata": {},
   "outputs": [
    {
     "data": {
      "text/html": [
       "<div>\n",
       "<style scoped>\n",
       "    .dataframe tbody tr th:only-of-type {\n",
       "        vertical-align: middle;\n",
       "    }\n",
       "\n",
       "    .dataframe tbody tr th {\n",
       "        vertical-align: top;\n",
       "    }\n",
       "\n",
       "    .dataframe thead th {\n",
       "        text-align: right;\n",
       "    }\n",
       "</style>\n",
       "<table border=\"1\" class=\"dataframe\">\n",
       "  <thead>\n",
       "    <tr style=\"text-align: right;\">\n",
       "      <th></th>\n",
       "      <th>설립연도</th>\n",
       "      <th>국가</th>\n",
       "      <th>분야</th>\n",
       "      <th>투자단계</th>\n",
       "      <th>직원 수</th>\n",
       "      <th>인수여부</th>\n",
       "      <th>상장여부</th>\n",
       "      <th>고객수(백만명)</th>\n",
       "      <th>총 투자금(억원)</th>\n",
       "      <th>연매출(억원)</th>\n",
       "      <th>SNS 팔로워 수(백만명)</th>\n",
       "      <th>기업가치(백억원)</th>\n",
       "    </tr>\n",
       "  </thead>\n",
       "  <tbody>\n",
       "    <tr>\n",
       "      <th>0</th>\n",
       "      <td>1</td>\n",
       "      <td>9</td>\n",
       "      <td>9</td>\n",
       "      <td>4</td>\n",
       "      <td>3261.0</td>\n",
       "      <td>0</td>\n",
       "      <td>1</td>\n",
       "      <td>45.0</td>\n",
       "      <td>5021.0</td>\n",
       "      <td>6680.0</td>\n",
       "      <td>2.00</td>\n",
       "      <td>0</td>\n",
       "    </tr>\n",
       "    <tr>\n",
       "      <th>1</th>\n",
       "      <td>19</td>\n",
       "      <td>0</td>\n",
       "      <td>8</td>\n",
       "      <td>4</td>\n",
       "      <td>3707.0</td>\n",
       "      <td>1</td>\n",
       "      <td>0</td>\n",
       "      <td>70.0</td>\n",
       "      <td>1601.0</td>\n",
       "      <td>4654.0</td>\n",
       "      <td>4.20</td>\n",
       "      <td>5</td>\n",
       "    </tr>\n",
       "    <tr>\n",
       "      <th>2</th>\n",
       "      <td>13</td>\n",
       "      <td>5</td>\n",
       "      <td>6</td>\n",
       "      <td>0</td>\n",
       "      <td>236.0</td>\n",
       "      <td>1</td>\n",
       "      <td>1</td>\n",
       "      <td>89.0</td>\n",
       "      <td>4709.0</td>\n",
       "      <td>9289.0</td>\n",
       "      <td>1.00</td>\n",
       "      <td>4</td>\n",
       "    </tr>\n",
       "    <tr>\n",
       "      <th>3</th>\n",
       "      <td>2</td>\n",
       "      <td>0</td>\n",
       "      <td>5</td>\n",
       "      <td>1</td>\n",
       "      <td>637.0</td>\n",
       "      <td>1</td>\n",
       "      <td>1</td>\n",
       "      <td>17.0</td>\n",
       "      <td>2145.0</td>\n",
       "      <td>7005.0</td>\n",
       "      <td>5.00</td>\n",
       "      <td>0</td>\n",
       "    </tr>\n",
       "    <tr>\n",
       "      <th>4</th>\n",
       "      <td>5</td>\n",
       "      <td>9</td>\n",
       "      <td>9</td>\n",
       "      <td>1</td>\n",
       "      <td>4922.0</td>\n",
       "      <td>1</td>\n",
       "      <td>0</td>\n",
       "      <td>68.0</td>\n",
       "      <td>4995.0</td>\n",
       "      <td>7593.0</td>\n",
       "      <td>4.36</td>\n",
       "      <td>5</td>\n",
       "    </tr>\n",
       "  </tbody>\n",
       "</table>\n",
       "</div>"
      ],
      "text/plain": [
       "   설립연도  국가  분야  투자단계    직원 수  인수여부  상장여부  고객수(백만명)  총 투자금(억원)  연매출(억원)  \\\n",
       "0     1   9   9     4  3261.0     0     1      45.0     5021.0   6680.0   \n",
       "1    19   0   8     4  3707.0     1     0      70.0     1601.0   4654.0   \n",
       "2    13   5   6     0   236.0     1     1      89.0     4709.0   9289.0   \n",
       "3     2   0   5     1   637.0     1     1      17.0     2145.0   7005.0   \n",
       "4     5   9   9     1  4922.0     1     0      68.0     4995.0   7593.0   \n",
       "\n",
       "   SNS 팔로워 수(백만명)  기업가치(백억원)  \n",
       "0            2.00          0  \n",
       "1            4.20          5  \n",
       "2            1.00          4  \n",
       "3            5.00          0  \n",
       "4            4.36          5  "
      ]
     },
     "execution_count": 4,
     "metadata": {},
     "output_type": "execute_result"
    }
   ],
   "source": [
    "test.head()"
   ]
  },
  {
   "cell_type": "markdown",
   "id": "17677ba9",
   "metadata": {},
   "source": [
    "<h2>상관관계</h2>\n",
    "\n",
    "다중공신성(multi-collinearity)를 확인할 수 있다"
   ]
  },
  {
   "cell_type": "code",
   "execution_count": 5,
   "id": "a9e28d70",
   "metadata": {},
   "outputs": [
    {
     "data": {
      "application/vnd.plotly.v1+json": {
       "config": {
        "plotlyServerURL": "https://plot.ly"
       },
       "data": [
        {
         "colorscale": [
          [
           0,
           "blue"
          ],
          [
           1,
           "red"
          ]
         ],
         "text": [
          [
           1,
           0.01,
           -0.02,
           -0.02,
           -0.01,
           0.03,
           -0.01,
           0.01,
           0.01,
           0,
           -0.01,
           0.03,
           0
          ],
          [
           0.01,
           1,
           -0.03,
           0.03,
           0.02,
           -0.01,
           0,
           0.01,
           0.01,
           -0.04,
           -0.01,
           0.06,
           0.03
          ],
          [
           -0.02,
           -0.03,
           1,
           -0.03,
           -0.03,
           0.03,
           0.03,
           0.02,
           -0.02,
           0.02,
           0.02,
           -0.17,
           -0.03
          ],
          [
           -0.02,
           0.03,
           -0.03,
           1,
           0.01,
           -0.02,
           0.03,
           0.01,
           0.03,
           0,
           -0.03,
           0.05,
           -0.01
          ],
          [
           -0.01,
           0.02,
           -0.03,
           0.01,
           1,
           -0.02,
           -0.01,
           -0.01,
           0.03,
           0.05,
           -0.01,
           0.03,
           -0.01
          ],
          [
           0.03,
           -0.01,
           0.03,
           -0.02,
           -0.02,
           1,
           -0.02,
           -0.01,
           0.02,
           0.01,
           0,
           -0.02,
           -0.01
          ],
          [
           -0.01,
           0,
           0.03,
           0.03,
           -0.01,
           -0.02,
           1,
           -0.02,
           0.01,
           -0.04,
           0.01,
           0.01,
           0.03
          ],
          [
           0.01,
           0.01,
           0.02,
           0.01,
           -0.01,
           -0.01,
           -0.02,
           1,
           -0.01,
           0,
           0.02,
           0,
           -0.01
          ],
          [
           0.01,
           0.01,
           -0.02,
           0.03,
           0.03,
           0.02,
           0.01,
           -0.01,
           1,
           0.04,
           0.01,
           -0.01,
           -0.01
          ],
          [
           0,
           -0.04,
           0.02,
           0,
           0.05,
           0.01,
           -0.04,
           0,
           0.04,
           1,
           -0.01,
           -0.03,
           -0.02
          ],
          [
           -0.01,
           -0.01,
           0.02,
           -0.03,
           -0.01,
           0,
           0.01,
           0.02,
           0.01,
           -0.01,
           1,
           -0.02,
           0.02
          ],
          [
           0.03,
           0.06,
           -0.17,
           0.05,
           0.03,
           -0.02,
           0.01,
           0,
           -0.01,
           -0.03,
           -0.02,
           1,
           0.02
          ],
          [
           0,
           0.03,
           -0.03,
           -0.01,
           -0.01,
           -0.01,
           0.03,
           -0.01,
           -0.01,
           -0.02,
           0.02,
           0.02,
           1
          ]
         ],
         "textfont": {
          "size": 12
         },
         "texttemplate": "%{text}",
         "type": "heatmap",
         "x": [
          "설립연도",
          "국가",
          "분야",
          "투자단계",
          "직원 수",
          "인수여부",
          "상장여부",
          "고객수(백만명)",
          "총 투자금(억원)",
          "연매출(억원)",
          "SNS 팔로워 수(백만명)",
          "기업가치(백억원)",
          "성공확률"
         ],
         "y": [
          "설립연도",
          "국가",
          "분야",
          "투자단계",
          "직원 수",
          "인수여부",
          "상장여부",
          "고객수(백만명)",
          "총 투자금(억원)",
          "연매출(억원)",
          "SNS 팔로워 수(백만명)",
          "기업가치(백억원)",
          "성공확률"
         ],
         "z": [
          [
           1,
           0.006995909214511322,
           -0.021813748948557747,
           -0.016812991203064297,
           -0.009638153700490773,
           0.031711280365341155,
           -0.0072206160317729315,
           0.006599554534850451,
           0.006221992418505039,
           0.002057174402845055,
           -0.006880546181382374,
           0.027320686058809468,
           0.002146750196967482
          ],
          [
           0.006995909214511322,
           1,
           -0.026002203582709486,
           0.031290660490775356,
           0.022445033058480505,
           -0.01427449099377846,
           0.0016248715476110372,
           0.012088759347248313,
           0.006094883466223883,
           -0.043394999626495845,
           -0.008002786937452605,
           0.061680266251291985,
           0.029569825241719763
          ],
          [
           -0.021813748948557747,
           -0.026002203582709486,
           1,
           -0.032559341524320586,
           -0.030944960257237614,
           0.02593038639455058,
           0.031231549658181486,
           0.02105314591295014,
           -0.01559058549386598,
           0.020072120919807448,
           0.020342449426587386,
           -0.1727931450288724,
           -0.02677284758677646
          ],
          [
           -0.016812991203064297,
           0.031290660490775356,
           -0.032559341524320586,
           1,
           0.008085553099181063,
           -0.024302160941364438,
           0.03161473219911359,
           0.0074397270060328966,
           0.026289388317684733,
           0.0016191246953937211,
           -0.026239856553026734,
           0.04666044162472593,
           -0.007835084849133447
          ],
          [
           -0.009638153700490773,
           0.022445033058480505,
           -0.030944960257237614,
           0.008085553099181063,
           1,
           -0.023283652973711468,
           -0.005710696479114421,
           -0.013838057037463209,
           0.03138579679122157,
           0.048075498761870616,
           -0.010202796022201373,
           0.028783024802262806,
           -0.011580734363805438
          ],
          [
           0.031711280365341155,
           -0.01427449099377846,
           0.02593038639455058,
           -0.024302160941364438,
           -0.023283652973711468,
           1,
           -0.02179458583078372,
           -0.00599879227458287,
           0.021343356742954817,
           0.013329871705177996,
           -0.0006268939461061034,
           -0.015157633113384644,
           -0.012064933556897828
          ],
          [
           -0.0072206160317729315,
           0.0016248715476110372,
           0.031231549658181486,
           0.03161473219911359,
           -0.005710696479114421,
           -0.02179458583078372,
           1,
           -0.016007150380709545,
           0.006126487396227042,
           -0.03556769706891648,
           0.0075745626813570974,
           0.0149047848932814,
           0.031412723830988754
          ],
          [
           0.006599554534850451,
           0.012088759347248313,
           0.02105314591295014,
           0.0074397270060328966,
           -0.013838057037463209,
           -0.00599879227458287,
           -0.016007150380709545,
           1,
           -0.008844940633031383,
           0.0022138520191690406,
           0.017857100980656605,
           -0.0007227737356660549,
           -0.012122949411237522
          ],
          [
           0.006221992418505039,
           0.006094883466223883,
           -0.01559058549386598,
           0.026289388317684733,
           0.03138579679122157,
           0.021343356742954817,
           0.006126487396227042,
           -0.008844940633031383,
           1,
           0.03612836759777857,
           0.007983543780646878,
           -0.0050617983478916115,
           -0.014939414453424175
          ],
          [
           0.002057174402845055,
           -0.043394999626495845,
           0.020072120919807448,
           0.0016191246953937211,
           0.048075498761870616,
           0.013329871705177996,
           -0.03556769706891648,
           0.0022138520191690406,
           0.03612836759777857,
           1,
           -0.00830101614375144,
           -0.03390264857510074,
           -0.01899354309148534
          ],
          [
           -0.006880546181382374,
           -0.008002786937452605,
           0.020342449426587386,
           -0.026239856553026734,
           -0.010202796022201373,
           -0.0006268939461061034,
           0.0075745626813570974,
           0.017857100980656605,
           0.007983543780646878,
           -0.00830101614375144,
           1,
           -0.015084803320924193,
           0.017927134379000682
          ],
          [
           0.027320686058809468,
           0.061680266251291985,
           -0.1727931450288724,
           0.04666044162472593,
           0.028783024802262806,
           -0.015157633113384644,
           0.0149047848932814,
           -0.0007227737356660549,
           -0.0050617983478916115,
           -0.03390264857510074,
           -0.015084803320924193,
           1,
           0.02495277715338115
          ],
          [
           0.002146750196967482,
           0.029569825241719763,
           -0.02677284758677646,
           -0.007835084849133447,
           -0.011580734363805438,
           -0.012064933556897828,
           0.031412723830988754,
           -0.012122949411237522,
           -0.014939414453424175,
           -0.01899354309148534,
           0.017927134379000682,
           0.02495277715338115,
           1
          ]
         ]
        }
       ],
       "layout": {
        "template": {
         "data": {
          "bar": [
           {
            "error_x": {
             "color": "#2a3f5f"
            },
            "error_y": {
             "color": "#2a3f5f"
            },
            "marker": {
             "line": {
              "color": "#E5ECF6",
              "width": 0.5
             },
             "pattern": {
              "fillmode": "overlay",
              "size": 10,
              "solidity": 0.2
             }
            },
            "type": "bar"
           }
          ],
          "barpolar": [
           {
            "marker": {
             "line": {
              "color": "#E5ECF6",
              "width": 0.5
             },
             "pattern": {
              "fillmode": "overlay",
              "size": 10,
              "solidity": 0.2
             }
            },
            "type": "barpolar"
           }
          ],
          "carpet": [
           {
            "aaxis": {
             "endlinecolor": "#2a3f5f",
             "gridcolor": "white",
             "linecolor": "white",
             "minorgridcolor": "white",
             "startlinecolor": "#2a3f5f"
            },
            "baxis": {
             "endlinecolor": "#2a3f5f",
             "gridcolor": "white",
             "linecolor": "white",
             "minorgridcolor": "white",
             "startlinecolor": "#2a3f5f"
            },
            "type": "carpet"
           }
          ],
          "choropleth": [
           {
            "colorbar": {
             "outlinewidth": 0,
             "ticks": ""
            },
            "type": "choropleth"
           }
          ],
          "contour": [
           {
            "colorbar": {
             "outlinewidth": 0,
             "ticks": ""
            },
            "colorscale": [
             [
              0,
              "#0d0887"
             ],
             [
              0.1111111111111111,
              "#46039f"
             ],
             [
              0.2222222222222222,
              "#7201a8"
             ],
             [
              0.3333333333333333,
              "#9c179e"
             ],
             [
              0.4444444444444444,
              "#bd3786"
             ],
             [
              0.5555555555555556,
              "#d8576b"
             ],
             [
              0.6666666666666666,
              "#ed7953"
             ],
             [
              0.7777777777777778,
              "#fb9f3a"
             ],
             [
              0.8888888888888888,
              "#fdca26"
             ],
             [
              1,
              "#f0f921"
             ]
            ],
            "type": "contour"
           }
          ],
          "contourcarpet": [
           {
            "colorbar": {
             "outlinewidth": 0,
             "ticks": ""
            },
            "type": "contourcarpet"
           }
          ],
          "heatmap": [
           {
            "colorbar": {
             "outlinewidth": 0,
             "ticks": ""
            },
            "colorscale": [
             [
              0,
              "#0d0887"
             ],
             [
              0.1111111111111111,
              "#46039f"
             ],
             [
              0.2222222222222222,
              "#7201a8"
             ],
             [
              0.3333333333333333,
              "#9c179e"
             ],
             [
              0.4444444444444444,
              "#bd3786"
             ],
             [
              0.5555555555555556,
              "#d8576b"
             ],
             [
              0.6666666666666666,
              "#ed7953"
             ],
             [
              0.7777777777777778,
              "#fb9f3a"
             ],
             [
              0.8888888888888888,
              "#fdca26"
             ],
             [
              1,
              "#f0f921"
             ]
            ],
            "type": "heatmap"
           }
          ],
          "heatmapgl": [
           {
            "colorbar": {
             "outlinewidth": 0,
             "ticks": ""
            },
            "colorscale": [
             [
              0,
              "#0d0887"
             ],
             [
              0.1111111111111111,
              "#46039f"
             ],
             [
              0.2222222222222222,
              "#7201a8"
             ],
             [
              0.3333333333333333,
              "#9c179e"
             ],
             [
              0.4444444444444444,
              "#bd3786"
             ],
             [
              0.5555555555555556,
              "#d8576b"
             ],
             [
              0.6666666666666666,
              "#ed7953"
             ],
             [
              0.7777777777777778,
              "#fb9f3a"
             ],
             [
              0.8888888888888888,
              "#fdca26"
             ],
             [
              1,
              "#f0f921"
             ]
            ],
            "type": "heatmapgl"
           }
          ],
          "histogram": [
           {
            "marker": {
             "pattern": {
              "fillmode": "overlay",
              "size": 10,
              "solidity": 0.2
             }
            },
            "type": "histogram"
           }
          ],
          "histogram2d": [
           {
            "colorbar": {
             "outlinewidth": 0,
             "ticks": ""
            },
            "colorscale": [
             [
              0,
              "#0d0887"
             ],
             [
              0.1111111111111111,
              "#46039f"
             ],
             [
              0.2222222222222222,
              "#7201a8"
             ],
             [
              0.3333333333333333,
              "#9c179e"
             ],
             [
              0.4444444444444444,
              "#bd3786"
             ],
             [
              0.5555555555555556,
              "#d8576b"
             ],
             [
              0.6666666666666666,
              "#ed7953"
             ],
             [
              0.7777777777777778,
              "#fb9f3a"
             ],
             [
              0.8888888888888888,
              "#fdca26"
             ],
             [
              1,
              "#f0f921"
             ]
            ],
            "type": "histogram2d"
           }
          ],
          "histogram2dcontour": [
           {
            "colorbar": {
             "outlinewidth": 0,
             "ticks": ""
            },
            "colorscale": [
             [
              0,
              "#0d0887"
             ],
             [
              0.1111111111111111,
              "#46039f"
             ],
             [
              0.2222222222222222,
              "#7201a8"
             ],
             [
              0.3333333333333333,
              "#9c179e"
             ],
             [
              0.4444444444444444,
              "#bd3786"
             ],
             [
              0.5555555555555556,
              "#d8576b"
             ],
             [
              0.6666666666666666,
              "#ed7953"
             ],
             [
              0.7777777777777778,
              "#fb9f3a"
             ],
             [
              0.8888888888888888,
              "#fdca26"
             ],
             [
              1,
              "#f0f921"
             ]
            ],
            "type": "histogram2dcontour"
           }
          ],
          "mesh3d": [
           {
            "colorbar": {
             "outlinewidth": 0,
             "ticks": ""
            },
            "type": "mesh3d"
           }
          ],
          "parcoords": [
           {
            "line": {
             "colorbar": {
              "outlinewidth": 0,
              "ticks": ""
             }
            },
            "type": "parcoords"
           }
          ],
          "pie": [
           {
            "automargin": true,
            "type": "pie"
           }
          ],
          "scatter": [
           {
            "fillpattern": {
             "fillmode": "overlay",
             "size": 10,
             "solidity": 0.2
            },
            "type": "scatter"
           }
          ],
          "scatter3d": [
           {
            "line": {
             "colorbar": {
              "outlinewidth": 0,
              "ticks": ""
             }
            },
            "marker": {
             "colorbar": {
              "outlinewidth": 0,
              "ticks": ""
             }
            },
            "type": "scatter3d"
           }
          ],
          "scattercarpet": [
           {
            "marker": {
             "colorbar": {
              "outlinewidth": 0,
              "ticks": ""
             }
            },
            "type": "scattercarpet"
           }
          ],
          "scattergeo": [
           {
            "marker": {
             "colorbar": {
              "outlinewidth": 0,
              "ticks": ""
             }
            },
            "type": "scattergeo"
           }
          ],
          "scattergl": [
           {
            "marker": {
             "colorbar": {
              "outlinewidth": 0,
              "ticks": ""
             }
            },
            "type": "scattergl"
           }
          ],
          "scattermapbox": [
           {
            "marker": {
             "colorbar": {
              "outlinewidth": 0,
              "ticks": ""
             }
            },
            "type": "scattermapbox"
           }
          ],
          "scatterpolar": [
           {
            "marker": {
             "colorbar": {
              "outlinewidth": 0,
              "ticks": ""
             }
            },
            "type": "scatterpolar"
           }
          ],
          "scatterpolargl": [
           {
            "marker": {
             "colorbar": {
              "outlinewidth": 0,
              "ticks": ""
             }
            },
            "type": "scatterpolargl"
           }
          ],
          "scatterternary": [
           {
            "marker": {
             "colorbar": {
              "outlinewidth": 0,
              "ticks": ""
             }
            },
            "type": "scatterternary"
           }
          ],
          "surface": [
           {
            "colorbar": {
             "outlinewidth": 0,
             "ticks": ""
            },
            "colorscale": [
             [
              0,
              "#0d0887"
             ],
             [
              0.1111111111111111,
              "#46039f"
             ],
             [
              0.2222222222222222,
              "#7201a8"
             ],
             [
              0.3333333333333333,
              "#9c179e"
             ],
             [
              0.4444444444444444,
              "#bd3786"
             ],
             [
              0.5555555555555556,
              "#d8576b"
             ],
             [
              0.6666666666666666,
              "#ed7953"
             ],
             [
              0.7777777777777778,
              "#fb9f3a"
             ],
             [
              0.8888888888888888,
              "#fdca26"
             ],
             [
              1,
              "#f0f921"
             ]
            ],
            "type": "surface"
           }
          ],
          "table": [
           {
            "cells": {
             "fill": {
              "color": "#EBF0F8"
             },
             "line": {
              "color": "white"
             }
            },
            "header": {
             "fill": {
              "color": "#C8D4E3"
             },
             "line": {
              "color": "white"
             }
            },
            "type": "table"
           }
          ]
         },
         "layout": {
          "annotationdefaults": {
           "arrowcolor": "#2a3f5f",
           "arrowhead": 0,
           "arrowwidth": 1
          },
          "autotypenumbers": "strict",
          "coloraxis": {
           "colorbar": {
            "outlinewidth": 0,
            "ticks": ""
           }
          },
          "colorscale": {
           "diverging": [
            [
             0,
             "#8e0152"
            ],
            [
             0.1,
             "#c51b7d"
            ],
            [
             0.2,
             "#de77ae"
            ],
            [
             0.3,
             "#f1b6da"
            ],
            [
             0.4,
             "#fde0ef"
            ],
            [
             0.5,
             "#f7f7f7"
            ],
            [
             0.6,
             "#e6f5d0"
            ],
            [
             0.7,
             "#b8e186"
            ],
            [
             0.8,
             "#7fbc41"
            ],
            [
             0.9,
             "#4d9221"
            ],
            [
             1,
             "#276419"
            ]
           ],
           "sequential": [
            [
             0,
             "#0d0887"
            ],
            [
             0.1111111111111111,
             "#46039f"
            ],
            [
             0.2222222222222222,
             "#7201a8"
            ],
            [
             0.3333333333333333,
             "#9c179e"
            ],
            [
             0.4444444444444444,
             "#bd3786"
            ],
            [
             0.5555555555555556,
             "#d8576b"
            ],
            [
             0.6666666666666666,
             "#ed7953"
            ],
            [
             0.7777777777777778,
             "#fb9f3a"
            ],
            [
             0.8888888888888888,
             "#fdca26"
            ],
            [
             1,
             "#f0f921"
            ]
           ],
           "sequentialminus": [
            [
             0,
             "#0d0887"
            ],
            [
             0.1111111111111111,
             "#46039f"
            ],
            [
             0.2222222222222222,
             "#7201a8"
            ],
            [
             0.3333333333333333,
             "#9c179e"
            ],
            [
             0.4444444444444444,
             "#bd3786"
            ],
            [
             0.5555555555555556,
             "#d8576b"
            ],
            [
             0.6666666666666666,
             "#ed7953"
            ],
            [
             0.7777777777777778,
             "#fb9f3a"
            ],
            [
             0.8888888888888888,
             "#fdca26"
            ],
            [
             1,
             "#f0f921"
            ]
           ]
          },
          "colorway": [
           "#636efa",
           "#EF553B",
           "#00cc96",
           "#ab63fa",
           "#FFA15A",
           "#19d3f3",
           "#FF6692",
           "#B6E880",
           "#FF97FF",
           "#FECB52"
          ],
          "font": {
           "color": "#2a3f5f"
          },
          "geo": {
           "bgcolor": "white",
           "lakecolor": "white",
           "landcolor": "#E5ECF6",
           "showlakes": true,
           "showland": true,
           "subunitcolor": "white"
          },
          "hoverlabel": {
           "align": "left"
          },
          "hovermode": "closest",
          "mapbox": {
           "style": "light"
          },
          "paper_bgcolor": "white",
          "plot_bgcolor": "#E5ECF6",
          "polar": {
           "angularaxis": {
            "gridcolor": "white",
            "linecolor": "white",
            "ticks": ""
           },
           "bgcolor": "#E5ECF6",
           "radialaxis": {
            "gridcolor": "white",
            "linecolor": "white",
            "ticks": ""
           }
          },
          "scene": {
           "xaxis": {
            "backgroundcolor": "#E5ECF6",
            "gridcolor": "white",
            "gridwidth": 2,
            "linecolor": "white",
            "showbackground": true,
            "ticks": "",
            "zerolinecolor": "white"
           },
           "yaxis": {
            "backgroundcolor": "#E5ECF6",
            "gridcolor": "white",
            "gridwidth": 2,
            "linecolor": "white",
            "showbackground": true,
            "ticks": "",
            "zerolinecolor": "white"
           },
           "zaxis": {
            "backgroundcolor": "#E5ECF6",
            "gridcolor": "white",
            "gridwidth": 2,
            "linecolor": "white",
            "showbackground": true,
            "ticks": "",
            "zerolinecolor": "white"
           }
          },
          "shapedefaults": {
           "line": {
            "color": "#2a3f5f"
           }
          },
          "ternary": {
           "aaxis": {
            "gridcolor": "white",
            "linecolor": "white",
            "ticks": ""
           },
           "baxis": {
            "gridcolor": "white",
            "linecolor": "white",
            "ticks": ""
           },
           "bgcolor": "#E5ECF6",
           "caxis": {
            "gridcolor": "white",
            "linecolor": "white",
            "ticks": ""
           }
          },
          "title": {
           "x": 0.05
          },
          "xaxis": {
           "automargin": true,
           "gridcolor": "white",
           "linecolor": "white",
           "ticks": "",
           "title": {
            "standoff": 15
           },
           "zerolinecolor": "white",
           "zerolinewidth": 2
          },
          "yaxis": {
           "automargin": true,
           "gridcolor": "white",
           "linecolor": "white",
           "ticks": "",
           "title": {
            "standoff": 15
           },
           "zerolinecolor": "white",
           "zerolinewidth": 2
          }
         }
        },
        "title": {
         "text": "enterprise"
        },
        "xaxis": {
         "nticks": 36
        }
       }
      }
     },
     "metadata": {},
     "output_type": "display_data"
    }
   ],
   "source": [
    "# 상관관계\n",
    "import plotly.graph_objects as go\n",
    "\n",
    "fig = go.Figure()\n",
    "numeric_df = train.select_dtypes(include=['int64', 'float64'])\n",
    "corr = numeric_df.corr(method='pearson')\n",
    "\n",
    "fig = go.Figure(\n",
    "    data=go.Heatmap(\n",
    "        z=corr.values,\n",
    "        x=corr.columns,\n",
    "        y=corr.columns,\n",
    "        colorscale=[[0, 'blue'], [1, 'red']],\n",
    "        text=corr.values.round(2),\n",
    "        texttemplate=\"%{text}\",\n",
    "        textfont={\"size\":12}\n",
    "    )\n",
    ")\n",
    "\n",
    "fig.update_layout(\n",
    "    title='enterprise',\n",
    "    xaxis_nticks=36\n",
    ")\n",
    "\n",
    "fig.show()"
   ]
  },
  {
   "cell_type": "markdown",
   "id": "d4776667",
   "metadata": {},
   "source": [
    "<h2>Linear Regression</h2>"
   ]
  },
  {
   "cell_type": "code",
   "execution_count": 6,
   "id": "7da50ad7",
   "metadata": {},
   "outputs": [
    {
     "name": "stderr",
     "output_type": "stream",
     "text": [
      "/opt/anaconda3/lib/python3.12/site-packages/IPython/core/events.py:82: UserWarning:\n",
      "\n",
      "Glyph 51649 (\\N{HANGUL SYLLABLE JIG}) missing from current font.\n",
      "\n",
      "/opt/anaconda3/lib/python3.12/site-packages/IPython/core/events.py:82: UserWarning:\n",
      "\n",
      "Glyph 50896 (\\N{HANGUL SYLLABLE WEON}) missing from current font.\n",
      "\n",
      "/opt/anaconda3/lib/python3.12/site-packages/IPython/core/events.py:82: UserWarning:\n",
      "\n",
      "Glyph 49688 (\\N{HANGUL SYLLABLE SU}) missing from current font.\n",
      "\n",
      "/opt/anaconda3/lib/python3.12/site-packages/IPython/core/events.py:82: UserWarning:\n",
      "\n",
      "Glyph 49457 (\\N{HANGUL SYLLABLE SEONG}) missing from current font.\n",
      "\n",
      "/opt/anaconda3/lib/python3.12/site-packages/IPython/core/events.py:82: UserWarning:\n",
      "\n",
      "Glyph 44277 (\\N{HANGUL SYLLABLE GONG}) missing from current font.\n",
      "\n",
      "/opt/anaconda3/lib/python3.12/site-packages/IPython/core/events.py:82: UserWarning:\n",
      "\n",
      "Glyph 54869 (\\N{HANGUL SYLLABLE HWAG}) missing from current font.\n",
      "\n",
      "/opt/anaconda3/lib/python3.12/site-packages/IPython/core/events.py:82: UserWarning:\n",
      "\n",
      "Glyph 47456 (\\N{HANGUL SYLLABLE RYUL}) missing from current font.\n",
      "\n",
      "/opt/anaconda3/lib/python3.12/site-packages/IPython/core/events.py:82: UserWarning:\n",
      "\n",
      "Glyph 44256 (\\N{HANGUL SYLLABLE GO}) missing from current font.\n",
      "\n",
      "/opt/anaconda3/lib/python3.12/site-packages/IPython/core/events.py:82: UserWarning:\n",
      "\n",
      "Glyph 44061 (\\N{HANGUL SYLLABLE GAEG}) missing from current font.\n",
      "\n",
      "/opt/anaconda3/lib/python3.12/site-packages/IPython/core/events.py:82: UserWarning:\n",
      "\n",
      "Glyph 48177 (\\N{HANGUL SYLLABLE BAEG}) missing from current font.\n",
      "\n",
      "/opt/anaconda3/lib/python3.12/site-packages/IPython/core/events.py:82: UserWarning:\n",
      "\n",
      "Glyph 47564 (\\N{HANGUL SYLLABLE MAN}) missing from current font.\n",
      "\n",
      "/opt/anaconda3/lib/python3.12/site-packages/IPython/core/events.py:82: UserWarning:\n",
      "\n",
      "Glyph 47749 (\\N{HANGUL SYLLABLE MYEONG}) missing from current font.\n",
      "\n",
      "/opt/anaconda3/lib/python3.12/site-packages/IPython/core/events.py:82: UserWarning:\n",
      "\n",
      "Glyph 52509 (\\N{HANGUL SYLLABLE CONG}) missing from current font.\n",
      "\n",
      "/opt/anaconda3/lib/python3.12/site-packages/IPython/core/events.py:82: UserWarning:\n",
      "\n",
      "Glyph 53804 (\\N{HANGUL SYLLABLE TU}) missing from current font.\n",
      "\n",
      "/opt/anaconda3/lib/python3.12/site-packages/IPython/core/events.py:82: UserWarning:\n",
      "\n",
      "Glyph 51088 (\\N{HANGUL SYLLABLE JA}) missing from current font.\n",
      "\n",
      "/opt/anaconda3/lib/python3.12/site-packages/IPython/core/events.py:82: UserWarning:\n",
      "\n",
      "Glyph 44552 (\\N{HANGUL SYLLABLE GEUM}) missing from current font.\n",
      "\n",
      "/opt/anaconda3/lib/python3.12/site-packages/IPython/core/events.py:82: UserWarning:\n",
      "\n",
      "Glyph 50613 (\\N{HANGUL SYLLABLE EOG}) missing from current font.\n",
      "\n",
      "/opt/anaconda3/lib/python3.12/site-packages/IPython/core/events.py:82: UserWarning:\n",
      "\n",
      "Glyph 50672 (\\N{HANGUL SYLLABLE YEON}) missing from current font.\n",
      "\n",
      "/opt/anaconda3/lib/python3.12/site-packages/IPython/core/events.py:82: UserWarning:\n",
      "\n",
      "Glyph 47588 (\\N{HANGUL SYLLABLE MAE}) missing from current font.\n",
      "\n",
      "/opt/anaconda3/lib/python3.12/site-packages/IPython/core/events.py:82: UserWarning:\n",
      "\n",
      "Glyph 52636 (\\N{HANGUL SYLLABLE CUL}) missing from current font.\n",
      "\n",
      "/opt/anaconda3/lib/python3.12/site-packages/IPython/core/events.py:82: UserWarning:\n",
      "\n",
      "Glyph 54036 (\\N{HANGUL SYLLABLE PAL}) missing from current font.\n",
      "\n",
      "/opt/anaconda3/lib/python3.12/site-packages/IPython/core/events.py:82: UserWarning:\n",
      "\n",
      "Glyph 47196 (\\N{HANGUL SYLLABLE RO}) missing from current font.\n",
      "\n",
      "/opt/anaconda3/lib/python3.12/site-packages/IPython/core/events.py:82: UserWarning:\n",
      "\n",
      "Glyph 50892 (\\N{HANGUL SYLLABLE WEO}) missing from current font.\n",
      "\n",
      "/opt/anaconda3/lib/python3.12/site-packages/IPython/core/pylabtools.py:170: UserWarning:\n",
      "\n",
      "Glyph 51649 (\\N{HANGUL SYLLABLE JIG}) missing from current font.\n",
      "\n",
      "/opt/anaconda3/lib/python3.12/site-packages/IPython/core/pylabtools.py:170: UserWarning:\n",
      "\n",
      "Glyph 50896 (\\N{HANGUL SYLLABLE WEON}) missing from current font.\n",
      "\n",
      "/opt/anaconda3/lib/python3.12/site-packages/IPython/core/pylabtools.py:170: UserWarning:\n",
      "\n",
      "Glyph 49688 (\\N{HANGUL SYLLABLE SU}) missing from current font.\n",
      "\n",
      "/opt/anaconda3/lib/python3.12/site-packages/IPython/core/pylabtools.py:170: UserWarning:\n",
      "\n",
      "Glyph 49457 (\\N{HANGUL SYLLABLE SEONG}) missing from current font.\n",
      "\n",
      "/opt/anaconda3/lib/python3.12/site-packages/IPython/core/pylabtools.py:170: UserWarning:\n",
      "\n",
      "Glyph 44277 (\\N{HANGUL SYLLABLE GONG}) missing from current font.\n",
      "\n",
      "/opt/anaconda3/lib/python3.12/site-packages/IPython/core/pylabtools.py:170: UserWarning:\n",
      "\n",
      "Glyph 54869 (\\N{HANGUL SYLLABLE HWAG}) missing from current font.\n",
      "\n",
      "/opt/anaconda3/lib/python3.12/site-packages/IPython/core/pylabtools.py:170: UserWarning:\n",
      "\n",
      "Glyph 47456 (\\N{HANGUL SYLLABLE RYUL}) missing from current font.\n",
      "\n",
      "/opt/anaconda3/lib/python3.12/site-packages/IPython/core/pylabtools.py:170: UserWarning:\n",
      "\n",
      "Glyph 44256 (\\N{HANGUL SYLLABLE GO}) missing from current font.\n",
      "\n",
      "/opt/anaconda3/lib/python3.12/site-packages/IPython/core/pylabtools.py:170: UserWarning:\n",
      "\n",
      "Glyph 44061 (\\N{HANGUL SYLLABLE GAEG}) missing from current font.\n",
      "\n",
      "/opt/anaconda3/lib/python3.12/site-packages/IPython/core/pylabtools.py:170: UserWarning:\n",
      "\n",
      "Glyph 48177 (\\N{HANGUL SYLLABLE BAEG}) missing from current font.\n",
      "\n",
      "/opt/anaconda3/lib/python3.12/site-packages/IPython/core/pylabtools.py:170: UserWarning:\n",
      "\n",
      "Glyph 47564 (\\N{HANGUL SYLLABLE MAN}) missing from current font.\n",
      "\n",
      "/opt/anaconda3/lib/python3.12/site-packages/IPython/core/pylabtools.py:170: UserWarning:\n",
      "\n",
      "Glyph 47749 (\\N{HANGUL SYLLABLE MYEONG}) missing from current font.\n",
      "\n",
      "/opt/anaconda3/lib/python3.12/site-packages/IPython/core/pylabtools.py:170: UserWarning:\n",
      "\n",
      "Glyph 52509 (\\N{HANGUL SYLLABLE CONG}) missing from current font.\n",
      "\n",
      "/opt/anaconda3/lib/python3.12/site-packages/IPython/core/pylabtools.py:170: UserWarning:\n",
      "\n",
      "Glyph 53804 (\\N{HANGUL SYLLABLE TU}) missing from current font.\n",
      "\n",
      "/opt/anaconda3/lib/python3.12/site-packages/IPython/core/pylabtools.py:170: UserWarning:\n",
      "\n",
      "Glyph 51088 (\\N{HANGUL SYLLABLE JA}) missing from current font.\n",
      "\n",
      "/opt/anaconda3/lib/python3.12/site-packages/IPython/core/pylabtools.py:170: UserWarning:\n",
      "\n",
      "Glyph 44552 (\\N{HANGUL SYLLABLE GEUM}) missing from current font.\n",
      "\n",
      "/opt/anaconda3/lib/python3.12/site-packages/IPython/core/pylabtools.py:170: UserWarning:\n",
      "\n",
      "Glyph 50613 (\\N{HANGUL SYLLABLE EOG}) missing from current font.\n",
      "\n",
      "/opt/anaconda3/lib/python3.12/site-packages/IPython/core/pylabtools.py:170: UserWarning:\n",
      "\n",
      "Glyph 50672 (\\N{HANGUL SYLLABLE YEON}) missing from current font.\n",
      "\n",
      "/opt/anaconda3/lib/python3.12/site-packages/IPython/core/pylabtools.py:170: UserWarning:\n",
      "\n",
      "Glyph 47588 (\\N{HANGUL SYLLABLE MAE}) missing from current font.\n",
      "\n",
      "/opt/anaconda3/lib/python3.12/site-packages/IPython/core/pylabtools.py:170: UserWarning:\n",
      "\n",
      "Glyph 52636 (\\N{HANGUL SYLLABLE CUL}) missing from current font.\n",
      "\n",
      "/opt/anaconda3/lib/python3.12/site-packages/IPython/core/pylabtools.py:170: UserWarning:\n",
      "\n",
      "Glyph 54036 (\\N{HANGUL SYLLABLE PAL}) missing from current font.\n",
      "\n",
      "/opt/anaconda3/lib/python3.12/site-packages/IPython/core/pylabtools.py:170: UserWarning:\n",
      "\n",
      "Glyph 47196 (\\N{HANGUL SYLLABLE RO}) missing from current font.\n",
      "\n",
      "/opt/anaconda3/lib/python3.12/site-packages/IPython/core/pylabtools.py:170: UserWarning:\n",
      "\n",
      "Glyph 50892 (\\N{HANGUL SYLLABLE WEO}) missing from current font.\n",
      "\n"
     ]
    },
    {
     "data": {
      "image/png": "[encoded data removed]",
      "text/plain": [
       "<Figure size 1600x800 with 6 Axes>"
      ]
     },
     "metadata": {},
     "output_type": "display_data"
    }
   ],
   "source": [
    "import numpy as np\n",
    "import matplotlib.pyplot as plt\n",
    "import pandas as pd\n",
    "import seaborn as sns\n",
    "%matplotlib inline\n",
    "\n",
    "# numeric_features = ['직원 수','고객수(백만명)','총 투자금(억원)','연매출(억원)','SNS 팔로워 수(백만명)']\n",
    "fig, axs = plt.subplots(figsize=(16, 8), ncols=3, nrows=2)\n",
    "numeric_features = ['직원 수','고객수(백만명)','총 투자금(억원)','연매출(억원)','SNS 팔로워 수(백만명)']\n",
    "for i, feature in enumerate(numeric_features):\n",
    "    row = i//3\n",
    "    col = i%3\n",
    "    sns.regplot(x=feature, y='성공확률', data=train, ax=axs[row][col])"
   ]
  },
  {
   "cell_type": "code",
   "execution_count": 22,
   "id": "036a2d5a",
   "metadata": {},
   "outputs": [
    {
     "name": "stdout",
     "output_type": "stream",
     "text": [
      "MSE : 0.056 , RMSE : 0.236\n",
      "Variance score : -0.001\n"
     ]
    }
   ],
   "source": [
    "from sklearn.model_selection import train_test_split\n",
    "from sklearn.linear_model import LinearRegression\n",
    "from sklearn.metrics import mean_squared_error, r2_score\n",
    "\n",
    "y_target = train['성공확률']\n",
    "X_data = train.drop(['성공확률'], axis=1, inplace=False)\n",
    "\n",
    "X_train, X_test, y_train, y_test = train_test_split(X_data, y_target, test_size=0.3, random_state=156)\n",
    "\n",
    "# Linear Regression OLS로 학습/예측/평가 수행\n",
    "lr = LinearRegression()\n",
    "lr.fit(X_train, y_train)\n",
    "y_preds = lr.predict(X_test)\n",
    "mse = mean_squared_error(y_test, y_preds)\n",
    "rmse = np.sqrt(mse)\n",
    "\n",
    "print('MSE : {0:.3f} , RMSE : {1:.3f}'.format(mse, rmse))\n",
    "print('Variance score : {0:.3f}'.format(r2_score(y_test, y_preds)))"
   ]
  },
  {
   "cell_type": "code",
   "execution_count": 26,
   "id": "ce51b7a9",
   "metadata": {},
   "outputs": [
    {
     "name": "stdout",
     "output_type": "stream",
     "text": [
      "절편 값: 0.5409537300225246\n",
      "회귀 계수값: [-0.00029  0.00256 -0.00095  0.00173 -0.      -0.007    0.0134  -0.00031\n",
      " -0.      -0.       0.00054  0.00356]\n",
      "Index(['설립연도', '국가', '분야', '투자단계', '직원 수', '인수여부', '상장여부', '고객수(백만명)',\n",
      "       '총 투자금(억원)', '연매출(억원)', 'SNS 팔로워 수(백만명)', '기업가치(백억원)', '성공확률'],\n",
      "      dtype='object')\n"
     ]
    }
   ],
   "source": [
    "print('절편 값:',lr.intercept_)\n",
    "print('회귀 계수값:', np.round(lr.coef_, 5))\n",
    "print(train.columns)"
   ]
  },
  {
   "cell_type": "code",
   "execution_count": 27,
   "id": "33ace37d",
   "metadata": {},
   "outputs": [
    {
     "data": {
      "text/plain": [
       "상장여부              0.01340\n",
       "기업가치(백억원)         0.00356\n",
       "국가                0.00256\n",
       "투자단계              0.00173\n",
       "SNS 팔로워 수(백만명)    0.00054\n",
       "직원 수             -0.00000\n",
       "총 투자금(억원)        -0.00000\n",
       "연매출(억원)          -0.00000\n",
       "설립연도             -0.00029\n",
       "고객수(백만명)         -0.00031\n",
       "분야               -0.00095\n",
       "인수여부             -0.00700\n",
       "dtype: float64"
      ]
     },
     "execution_count": 27,
     "metadata": {},
     "output_type": "execute_result"
    }
   ],
   "source": [
    "coeff = pd.Series(data=np.round(lr.coef_, 5), index=X_data.columns)\n",
    "coeff.sort_values(ascending=False)"
   ]
  },
  {
   "cell_type": "code",
   "execution_count": null,
   "id": "3a96f941",
   "metadata": {},
   "outputs": [],
   "source": [
    "intercept = lr.intercept_\n",
    "coef = lr.coef_\n",
    "\n",
    "y_pred = np.dot(test, coef) + intercept"
   ]
  },
  {
   "cell_type": "code",
   "execution_count": null,
   "id": "d1cee323",
   "metadata": {},
   "outputs": [],
   "source": [
    "sample_submission['성공확률'] = y_pred\n",
    "sample_submission.to_csv('./submission/lr_submission.csv', index=False, encoding='utf-8-sig')"
   ]
  },
  {
   "cell_type": "code",
   "execution_count": 28,
   "id": "5cef6016",
   "metadata": {},
   "outputs": [
    {
     "name": "stdout",
     "output_type": "stream",
     "text": [
      " 5 folds 의 개별 negative MSE scores:  [-0.06 -0.06 -0.06 -0.06 -0.06]\n",
      " 5 folds 의 개별 RMSE scores :  [0.25 0.24 0.24 0.24 0.24]\n",
      " 5 folds 의 평균 RMSE : 0.242\n"
     ]
    }
   ],
   "source": [
    "from sklearn.model_selection import cross_val_score\n",
    "\n",
    "y_target = train['성공확률']\n",
    "X_data = train.drop(['성공확률'], axis=1, inplace=False)\n",
    "lr = LinearRegression()\n",
    "\n",
    "neg_mse_scores = cross_val_score(lr, X_data, y_target, scoring=\"neg_mean_squared_error\", cv=5)\n",
    "rmse_scores = np.sqrt(-1*neg_mse_scores)\n",
    "avg_rmse = np.mean(rmse_scores)\n",
    "\n",
    "print(' 5 folds 의 개별 negative MSE scores: ', np.round(neg_mse_scores, 2))\n",
    "print(' 5 folds 의 개별 RMSE scores : ', np.round(rmse_scores, 2))\n",
    "print(' 5 folds 의 평균 RMSE : {0:.3f}'.format(avg_rmse))"
   ]
  },
  {
   "cell_type": "markdown",
   "id": "34816372",
   "metadata": {},
   "source": [
    "<h2>Regularized Linear Models - Ridge, Lasso</h2>"
   ]
  },
  {
   "cell_type": "markdown",
   "id": "01558e67",
   "metadata": {},
   "source": [
    "<h3>Rigde</h3>\n",
    "\n",
    "L2 규제"
   ]
  },
  {
   "cell_type": "code",
   "execution_count": 59,
   "id": "49a861c5",
   "metadata": {},
   "outputs": [
    {
     "name": "stdout",
     "output_type": "stream",
     "text": [
      " 5 folds 의 개별 Negative MSE scores:  [-0.062 -0.058 -0.058 -0.058 -0.056]\n",
      " 5 folds 의 개별 RMSE scores :  [0.248 0.242 0.242 0.242 0.236]\n",
      " 5 folds 의 평균 RMSE : 0.242 \n"
     ]
    }
   ],
   "source": [
    "from sklearn.linear_model import Ridge\n",
    "from sklearn.model_selection import cross_val_score\n",
    "\n",
    "y_target = train['성공확률']\n",
    "X_data = train.drop(['성공확률'], axis=1, inplace=False)\n",
    "\n",
    "ridge = Ridge(alpha=10)\n",
    "neg_mse_scores = cross_val_score(ridge, X_data, y_target, scoring=\"neg_mean_squared_error\", cv=5)\n",
    "rmse_scores = np.sqrt(-1*neg_mse_scores)\n",
    "avg_rmse = np.mean(rmse_scores)\n",
    "\n",
    "print(' 5 folds 의 개별 Negative MSE scores: ', np.round(neg_mse_scores, 3))\n",
    "print(' 5 folds 의 개별 RMSE scores : ', np.round(rmse_scores,3))\n",
    "print(' 5 folds 의 평균 RMSE : {0:.3f} '.format(avg_rmse))"
   ]
  },
  {
   "cell_type": "markdown",
   "id": "643e54f8",
   "metadata": {},
   "source": [
    "alpha값을 0, 0.1, 1, 10, 100 으로 변경하면서 RMSE 측정"
   ]
  },
  {
   "cell_type": "code",
   "execution_count": 71,
   "id": "d7a25ba9",
   "metadata": {},
   "outputs": [
    {
     "name": "stdout",
     "output_type": "stream",
     "text": [
      "alpha 0 일 때 5 folds 의 평균 RMSE : 0.24177 \n",
      "alpha 0.1 일 때 5 folds 의 평균 RMSE : 0.24177 \n",
      "alpha 1 일 때 5 folds 의 평균 RMSE : 0.24177 \n",
      "alpha 10 일 때 5 folds 의 평균 RMSE : 0.24177 \n",
      "alpha 100 일 때 5 folds 의 평균 RMSE : 0.24176 \n",
      "alpha 1000 일 때 5 folds 의 평균 RMSE : 0.24173 \n",
      "alpha 10000 일 때 5 folds 의 평균 RMSE : 0.24171 \n"
     ]
    }
   ],
   "source": [
    "alphas = [0, 0.1, 1, 10, 100, 1000, 10000]\n",
    "\n",
    "for alpha in alphas:\n",
    "    ridge = Ridge(alpha=alpha)\n",
    "\n",
    "    neg_mse_scores = cross_val_score(ridge, X_data, y_target, scoring=\"neg_mean_squared_error\", cv=5)\n",
    "    avg_rmse = np.mean(np.sqrt(-1 * neg_mse_scores))\n",
    "    print('alpha {0} 일 때 5 folds 의 평균 RMSE : {1:.5f} '.format(alpha, avg_rmse))"
   ]
  },
  {
   "cell_type": "markdown",
   "id": "88c8758b",
   "metadata": {},
   "source": [
    "각 alpha에 따른 회귀 계수 값을 시각화. 각 alpha값 별로 plt.subplots로 맷플롯립 축 생성"
   ]
  },
  {
   "cell_type": "code",
   "execution_count": null,
   "id": "ee0ab517",
   "metadata": {},
   "outputs": [],
   "source": [
    "fig, axs = plt.subplots(figsize=(18, 6), nrows=1, ncols=7)\n",
    "coeff_df = pd.DataFrame()\n",
    "\n",
    "for pos, alpha in enumerate(alphas):\n",
    "    ridge = Ridge(alpha=alpha)\n",
    "    ridge.fit(X_data, y_target)\n",
    "\n",
    "    coeff = pd.Series(data=ridge.coef_, index=X_data.columns)\n",
    "    colname = 'alpha: '+str(alpha)\n",
    "    coeff_df[colname] = coeff\n",
    "\n",
    "    coeff = coeff.sort_values(ascending=False)\n",
    "    axs[pos].set_title(colname)\n",
    "    axs[pos].set_xlim(-3, 6)\n",
    "    sns.barplot(x=coeff.values, y=coeff.index, ax=axs[pos])\n",
    "\n",
    "plt.show()"
   ]
  },
  {
   "cell_type": "code",
   "execution_count": 73,
   "id": "58819689",
   "metadata": {},
   "outputs": [
    {
     "data": {
      "text/html": [
       "<div>\n",
       "<style scoped>\n",
       "    .dataframe tbody tr th:only-of-type {\n",
       "        vertical-align: middle;\n",
       "    }\n",
       "\n",
       "    .dataframe tbody tr th {\n",
       "        vertical-align: top;\n",
       "    }\n",
       "\n",
       "    .dataframe thead th {\n",
       "        text-align: right;\n",
       "    }\n",
       "</style>\n",
       "<table border=\"1\" class=\"dataframe\">\n",
       "  <thead>\n",
       "    <tr style=\"text-align: right;\">\n",
       "      <th></th>\n",
       "      <th>alpha: 0</th>\n",
       "      <th>alpha: 0.1</th>\n",
       "      <th>alpha: 1</th>\n",
       "      <th>alpha: 10</th>\n",
       "      <th>alpha: 100</th>\n",
       "      <th>alpha: 1000</th>\n",
       "      <th>alpha: 10000</th>\n",
       "    </tr>\n",
       "  </thead>\n",
       "  <tbody>\n",
       "    <tr>\n",
       "      <th>상장여부</th>\n",
       "      <td>1.506306e-02</td>\n",
       "      <td>1.506169e-02</td>\n",
       "      <td>1.504932e-02</td>\n",
       "      <td>1.492671e-02</td>\n",
       "      <td>1.380229e-02</td>\n",
       "      <td>7.871881e-03</td>\n",
       "      <td>0.001484</td>\n",
       "    </tr>\n",
       "    <tr>\n",
       "      <th>SNS 팔로워 수(백만명)</th>\n",
       "      <td>3.162488e-03</td>\n",
       "      <td>3.162456e-03</td>\n",
       "      <td>3.162167e-03</td>\n",
       "      <td>3.159281e-03</td>\n",
       "      <td>3.130437e-03</td>\n",
       "      <td>2.856715e-03</td>\n",
       "      <td>0.001487</td>\n",
       "    </tr>\n",
       "    <tr>\n",
       "      <th>기업가치(백억원)</th>\n",
       "      <td>2.549955e-03</td>\n",
       "      <td>2.549946e-03</td>\n",
       "      <td>2.549860e-03</td>\n",
       "      <td>2.548994e-03</td>\n",
       "      <td>2.539802e-03</td>\n",
       "      <td>2.424901e-03</td>\n",
       "      <td>0.001581</td>\n",
       "    </tr>\n",
       "    <tr>\n",
       "      <th>국가</th>\n",
       "      <td>2.325132e-03</td>\n",
       "      <td>2.325127e-03</td>\n",
       "      <td>2.325078e-03</td>\n",
       "      <td>2.324593e-03</td>\n",
       "      <td>2.319711e-03</td>\n",
       "      <td>2.269942e-03</td>\n",
       "      <td>0.001854</td>\n",
       "    </tr>\n",
       "    <tr>\n",
       "      <th>설립연도</th>\n",
       "      <td>5.473436e-05</td>\n",
       "      <td>5.473285e-05</td>\n",
       "      <td>5.471932e-05</td>\n",
       "      <td>5.458525e-05</td>\n",
       "      <td>5.336354e-05</td>\n",
       "      <td>4.743929e-05</td>\n",
       "      <td>0.000048</td>\n",
       "    </tr>\n",
       "    <tr>\n",
       "      <th>연매출(억원)</th>\n",
       "      <td>-9.009016e-07</td>\n",
       "      <td>-9.009095e-07</td>\n",
       "      <td>-9.009801e-07</td>\n",
       "      <td>-9.016803e-07</td>\n",
       "      <td>-9.081526e-07</td>\n",
       "      <td>-9.449137e-07</td>\n",
       "      <td>-0.000001</td>\n",
       "    </tr>\n",
       "    <tr>\n",
       "      <th>총 투자금(억원)</th>\n",
       "      <td>-1.858336e-06</td>\n",
       "      <td>-1.858336e-06</td>\n",
       "      <td>-1.858336e-06</td>\n",
       "      <td>-1.858337e-06</td>\n",
       "      <td>-1.858362e-06</td>\n",
       "      <td>-1.858970e-06</td>\n",
       "      <td>-0.000002</td>\n",
       "    </tr>\n",
       "    <tr>\n",
       "      <th>직원 수</th>\n",
       "      <td>-2.099713e-06</td>\n",
       "      <td>-2.099711e-06</td>\n",
       "      <td>-2.099692e-06</td>\n",
       "      <td>-2.099500e-06</td>\n",
       "      <td>-2.097672e-06</td>\n",
       "      <td>-2.084605e-06</td>\n",
       "      <td>-0.000002</td>\n",
       "    </tr>\n",
       "    <tr>\n",
       "      <th>고객수(백만명)</th>\n",
       "      <td>-1.281866e-04</td>\n",
       "      <td>-1.281870e-04</td>\n",
       "      <td>-1.281907e-04</td>\n",
       "      <td>-1.282280e-04</td>\n",
       "      <td>-1.285665e-04</td>\n",
       "      <td>-1.302099e-04</td>\n",
       "      <td>-0.000131</td>\n",
       "    </tr>\n",
       "    <tr>\n",
       "      <th>투자단계</th>\n",
       "      <td>-1.789989e-03</td>\n",
       "      <td>-1.789949e-03</td>\n",
       "      <td>-1.789590e-03</td>\n",
       "      <td>-1.786017e-03</td>\n",
       "      <td>-1.752049e-03</td>\n",
       "      <td>-1.511833e-03</td>\n",
       "      <td>-0.000719</td>\n",
       "    </tr>\n",
       "    <tr>\n",
       "      <th>분야</th>\n",
       "      <td>-1.836374e-03</td>\n",
       "      <td>-1.836365e-03</td>\n",
       "      <td>-1.836282e-03</td>\n",
       "      <td>-1.835464e-03</td>\n",
       "      <td>-1.827768e-03</td>\n",
       "      <td>-1.776029e-03</td>\n",
       "      <td>-0.001518</td>\n",
       "    </tr>\n",
       "    <tr>\n",
       "      <th>인수여부</th>\n",
       "      <td>-4.944582e-03</td>\n",
       "      <td>-4.944157e-03</td>\n",
       "      <td>-4.940344e-03</td>\n",
       "      <td>-4.902531e-03</td>\n",
       "      <td>-4.553910e-03</td>\n",
       "      <td>-2.661138e-03</td>\n",
       "      <td>-0.000522</td>\n",
       "    </tr>\n",
       "  </tbody>\n",
       "</table>\n",
       "</div>"
      ],
      "text/plain": [
       "                    alpha: 0    alpha: 0.1      alpha: 1     alpha: 10  \\\n",
       "상장여부            1.506306e-02  1.506169e-02  1.504932e-02  1.492671e-02   \n",
       "SNS 팔로워 수(백만명)  3.162488e-03  3.162456e-03  3.162167e-03  3.159281e-03   \n",
       "기업가치(백억원)       2.549955e-03  2.549946e-03  2.549860e-03  2.548994e-03   \n",
       "국가              2.325132e-03  2.325127e-03  2.325078e-03  2.324593e-03   \n",
       "설립연도            5.473436e-05  5.473285e-05  5.471932e-05  5.458525e-05   \n",
       "연매출(억원)        -9.009016e-07 -9.009095e-07 -9.009801e-07 -9.016803e-07   \n",
       "총 투자금(억원)      -1.858336e-06 -1.858336e-06 -1.858336e-06 -1.858337e-06   \n",
       "직원 수           -2.099713e-06 -2.099711e-06 -2.099692e-06 -2.099500e-06   \n",
       "고객수(백만명)       -1.281866e-04 -1.281870e-04 -1.281907e-04 -1.282280e-04   \n",
       "투자단계           -1.789989e-03 -1.789949e-03 -1.789590e-03 -1.786017e-03   \n",
       "분야             -1.836374e-03 -1.836365e-03 -1.836282e-03 -1.835464e-03   \n",
       "인수여부           -4.944582e-03 -4.944157e-03 -4.940344e-03 -4.902531e-03   \n",
       "\n",
       "                  alpha: 100   alpha: 1000  alpha: 10000  \n",
       "상장여부            1.380229e-02  7.871881e-03      0.001484  \n",
       "SNS 팔로워 수(백만명)  3.130437e-03  2.856715e-03      0.001487  \n",
       "기업가치(백억원)       2.539802e-03  2.424901e-03      0.001581  \n",
       "국가              2.319711e-03  2.269942e-03      0.001854  \n",
       "설립연도            5.336354e-05  4.743929e-05      0.000048  \n",
       "연매출(억원)        -9.081526e-07 -9.449137e-07     -0.000001  \n",
       "총 투자금(억원)      -1.858362e-06 -1.858970e-06     -0.000002  \n",
       "직원 수           -2.097672e-06 -2.084605e-06     -0.000002  \n",
       "고객수(백만명)       -1.285665e-04 -1.302099e-04     -0.000131  \n",
       "투자단계           -1.752049e-03 -1.511833e-03     -0.000719  \n",
       "분야             -1.827768e-03 -1.776029e-03     -0.001518  \n",
       "인수여부           -4.553910e-03 -2.661138e-03     -0.000522  "
      ]
     },
     "execution_count": 73,
     "metadata": {},
     "output_type": "execute_result"
    }
   ],
   "source": [
    "ridge_alphas = [0 , 0.1 , 1 , 10 , 100, 1000, 10000]\n",
    "sort_column = 'alpha: '+str(ridge_alphas[0])\n",
    "coeff_df.sort_values(by=sort_column, ascending=False)"
   ]
  },
  {
   "cell_type": "code",
   "execution_count": 67,
   "id": "dd79707d",
   "metadata": {},
   "outputs": [
    {
     "data": {
      "text/html": [
       "<div>\n",
       "<style scoped>\n",
       "    .dataframe tbody tr th:only-of-type {\n",
       "        vertical-align: middle;\n",
       "    }\n",
       "\n",
       "    .dataframe tbody tr th {\n",
       "        vertical-align: top;\n",
       "    }\n",
       "\n",
       "    .dataframe thead th {\n",
       "        text-align: right;\n",
       "    }\n",
       "</style>\n",
       "<table border=\"1\" class=\"dataframe\">\n",
       "  <thead>\n",
       "    <tr style=\"text-align: right;\">\n",
       "      <th></th>\n",
       "      <th>설립연도</th>\n",
       "      <th>국가</th>\n",
       "      <th>분야</th>\n",
       "      <th>투자단계</th>\n",
       "      <th>직원 수</th>\n",
       "      <th>인수여부</th>\n",
       "      <th>상장여부</th>\n",
       "      <th>고객수(백만명)</th>\n",
       "      <th>총 투자금(억원)</th>\n",
       "      <th>연매출(억원)</th>\n",
       "      <th>SNS 팔로워 수(백만명)</th>\n",
       "      <th>기업가치(백억원)</th>\n",
       "    </tr>\n",
       "  </thead>\n",
       "  <tbody>\n",
       "    <tr>\n",
       "      <th>0</th>\n",
       "      <td>1</td>\n",
       "      <td>9</td>\n",
       "      <td>9</td>\n",
       "      <td>4</td>\n",
       "      <td>3261.0</td>\n",
       "      <td>0</td>\n",
       "      <td>1</td>\n",
       "      <td>45.0</td>\n",
       "      <td>5021.0</td>\n",
       "      <td>6680.0</td>\n",
       "      <td>2.00</td>\n",
       "      <td>0</td>\n",
       "    </tr>\n",
       "    <tr>\n",
       "      <th>1</th>\n",
       "      <td>19</td>\n",
       "      <td>0</td>\n",
       "      <td>8</td>\n",
       "      <td>4</td>\n",
       "      <td>3707.0</td>\n",
       "      <td>1</td>\n",
       "      <td>0</td>\n",
       "      <td>70.0</td>\n",
       "      <td>1601.0</td>\n",
       "      <td>4654.0</td>\n",
       "      <td>4.20</td>\n",
       "      <td>5</td>\n",
       "    </tr>\n",
       "    <tr>\n",
       "      <th>2</th>\n",
       "      <td>13</td>\n",
       "      <td>5</td>\n",
       "      <td>6</td>\n",
       "      <td>0</td>\n",
       "      <td>236.0</td>\n",
       "      <td>1</td>\n",
       "      <td>1</td>\n",
       "      <td>89.0</td>\n",
       "      <td>4709.0</td>\n",
       "      <td>9289.0</td>\n",
       "      <td>1.00</td>\n",
       "      <td>4</td>\n",
       "    </tr>\n",
       "    <tr>\n",
       "      <th>3</th>\n",
       "      <td>2</td>\n",
       "      <td>0</td>\n",
       "      <td>5</td>\n",
       "      <td>1</td>\n",
       "      <td>637.0</td>\n",
       "      <td>1</td>\n",
       "      <td>1</td>\n",
       "      <td>17.0</td>\n",
       "      <td>2145.0</td>\n",
       "      <td>7005.0</td>\n",
       "      <td>5.00</td>\n",
       "      <td>0</td>\n",
       "    </tr>\n",
       "    <tr>\n",
       "      <th>4</th>\n",
       "      <td>5</td>\n",
       "      <td>9</td>\n",
       "      <td>9</td>\n",
       "      <td>1</td>\n",
       "      <td>4922.0</td>\n",
       "      <td>1</td>\n",
       "      <td>0</td>\n",
       "      <td>68.0</td>\n",
       "      <td>4995.0</td>\n",
       "      <td>7593.0</td>\n",
       "      <td>4.36</td>\n",
       "      <td>5</td>\n",
       "    </tr>\n",
       "  </tbody>\n",
       "</table>\n",
       "</div>"
      ],
      "text/plain": [
       "   설립연도  국가  분야  투자단계    직원 수  인수여부  상장여부  고객수(백만명)  총 투자금(억원)  연매출(억원)  \\\n",
       "0     1   9   9     4  3261.0     0     1      45.0     5021.0   6680.0   \n",
       "1    19   0   8     4  3707.0     1     0      70.0     1601.0   4654.0   \n",
       "2    13   5   6     0   236.0     1     1      89.0     4709.0   9289.0   \n",
       "3     2   0   5     1   637.0     1     1      17.0     2145.0   7005.0   \n",
       "4     5   9   9     1  4922.0     1     0      68.0     4995.0   7593.0   \n",
       "\n",
       "   SNS 팔로워 수(백만명)  기업가치(백억원)  \n",
       "0            2.00          0  \n",
       "1            4.20          5  \n",
       "2            1.00          4  \n",
       "3            5.00          0  \n",
       "4            4.36          5  "
      ]
     },
     "execution_count": 67,
     "metadata": {},
     "output_type": "execute_result"
    }
   ],
   "source": [
    "test.head()"
   ]
  },
  {
   "cell_type": "code",
   "execution_count": 75,
   "id": "b06c8332",
   "metadata": {},
   "outputs": [],
   "source": [
    "y_pred = np.dot(test, coeff_df['alpha: 10000']) + ridge.intercept_\n",
    "sample_submission['성공확률'] = y_pred"
   ]
  },
  {
   "cell_type": "code",
   "execution_count": null,
   "id": "115c70aa",
   "metadata": {},
   "outputs": [],
   "source": [
    "sample_submission.to_csv('./submission/ridge_subimssion.csv', index=False, encoding='utf-8-sig')"
   ]
  },
  {
   "cell_type": "markdown",
   "id": "6e3feed9",
   "metadata": {},
   "source": [
    "<h3>Lasso</h3>"
   ]
  },
  {
   "cell_type": "code",
   "execution_count": 29,
   "id": "56f91cb6",
   "metadata": {},
   "outputs": [],
   "source": [
    "from sklearn.linear_model import Lasso, ElasticNet, ElasticNetCV\n",
    "from sklearn.model_selection import cross_val_score\n",
    "\n",
    "y_target = train['성공확률']\n",
    "X_data = train.drop(['성공확률'], axis=1, inplace=False)\n",
    "\n",
    "# alpha 값에 따른 회귀 모델의 폴드 평균 RMSE를 출력하고 회귀 계수값들을 DataFrame으로 반환\n",
    "def get_linear_reg_eval(model_name, params=None, X_data_n=None, y_target_n=None,\n",
    "                        verbose=True, return_coeff=True):\n",
    "    \n",
    "    coeff_df = pd.DataFrame()\n",
    "    if verbose : print(\"####### \", model_name, \" ########\")\n",
    "    for param in params:\n",
    "        if model_name == 'Ridge': model = Ridge(alpha=param)\n",
    "        elif model_name == 'Lasso': model = Lasso(alpha=param)\n",
    "        elif model_name == 'ElasticNet': model = ElasticNet(alpha=param, l1_ratio=0.2)\n",
    "        neg_mse_scores = cross_val_score(model, X_data_n, y_target_n, scoring=\"neg_mean_squared_error\", cv=5)\n",
    "\n",
    "        avg_rmse = np.mean(np.sqrt(-1 * neg_mse_scores))\n",
    "        print('alpha {0}일 때 5 폴드 세트의 평균 RMSE: {1:.3f}'.format(param, avg_rmse))\n",
    "\n",
    "        model.fit(X_data_n, y_target_n)\n",
    "        if return_coeff:\n",
    "            coeff = pd.DataFrame(data=model.coef_, index=X_data_n.columns)\n",
    "            colname='alpha:'+str(param)\n",
    "            coeff_df[colname] = coeff\n",
    "\n",
    "    return coeff_df\n"
   ]
  },
  {
   "cell_type": "code",
   "execution_count": 21,
   "id": "cb665026",
   "metadata": {},
   "outputs": [
    {
     "name": "stdout",
     "output_type": "stream",
     "text": [
      "#######  Lasso  ########\n",
      "alpha 0.07일 때 5 폴드 세트의 평균 RMSE: 0.242\n",
      "alpha 0.1일 때 5 폴드 세트의 평균 RMSE: 0.242\n",
      "alpha 0.5일 때 5 폴드 세트의 평균 RMSE: 0.242\n",
      "alpha 1일 때 5 폴드 세트의 평균 RMSE: 0.242\n",
      "alpha 3일 때 5 폴드 세트의 평균 RMSE: 0.242\n"
     ]
    }
   ],
   "source": [
    "Lasso_alphas = [0.07, 0.1, 0.5, 1, 3]\n",
    "coeff_lasso_df = get_linear_reg_eval('Lasso', params=Lasso_alphas, X_data_n=X_data, y_target_n=y_target)"
   ]
  },
  {
   "cell_type": "code",
   "execution_count": 23,
   "id": "0f493f01",
   "metadata": {},
   "outputs": [
    {
     "data": {
      "text/html": [
       "<div>\n",
       "<style scoped>\n",
       "    .dataframe tbody tr th:only-of-type {\n",
       "        vertical-align: middle;\n",
       "    }\n",
       "\n",
       "    .dataframe tbody tr th {\n",
       "        vertical-align: top;\n",
       "    }\n",
       "\n",
       "    .dataframe thead th {\n",
       "        text-align: right;\n",
       "    }\n",
       "</style>\n",
       "<table border=\"1\" class=\"dataframe\">\n",
       "  <thead>\n",
       "    <tr style=\"text-align: right;\">\n",
       "      <th></th>\n",
       "      <th>alpha:0.07</th>\n",
       "      <th>alpha:0.1</th>\n",
       "      <th>alpha:0.5</th>\n",
       "      <th>alpha:1</th>\n",
       "      <th>alpha:3</th>\n",
       "    </tr>\n",
       "  </thead>\n",
       "  <tbody>\n",
       "    <tr>\n",
       "      <th>설립연도</th>\n",
       "      <td>0.000000</td>\n",
       "      <td>0.000000</td>\n",
       "      <td>0.000000</td>\n",
       "      <td>0.000000</td>\n",
       "      <td>0.000000e+00</td>\n",
       "    </tr>\n",
       "    <tr>\n",
       "      <th>국가</th>\n",
       "      <td>0.000000</td>\n",
       "      <td>0.000000</td>\n",
       "      <td>0.000000</td>\n",
       "      <td>0.000000</td>\n",
       "      <td>0.000000e+00</td>\n",
       "    </tr>\n",
       "    <tr>\n",
       "      <th>분야</th>\n",
       "      <td>-0.000000</td>\n",
       "      <td>-0.000000</td>\n",
       "      <td>-0.000000</td>\n",
       "      <td>-0.000000</td>\n",
       "      <td>-0.000000e+00</td>\n",
       "    </tr>\n",
       "    <tr>\n",
       "      <th>투자단계</th>\n",
       "      <td>-0.000000</td>\n",
       "      <td>-0.000000</td>\n",
       "      <td>-0.000000</td>\n",
       "      <td>-0.000000</td>\n",
       "      <td>-0.000000e+00</td>\n",
       "    </tr>\n",
       "    <tr>\n",
       "      <th>인수여부</th>\n",
       "      <td>-0.000000</td>\n",
       "      <td>-0.000000</td>\n",
       "      <td>-0.000000</td>\n",
       "      <td>-0.000000</td>\n",
       "      <td>-0.000000e+00</td>\n",
       "    </tr>\n",
       "    <tr>\n",
       "      <th>상장여부</th>\n",
       "      <td>0.000000</td>\n",
       "      <td>0.000000</td>\n",
       "      <td>0.000000</td>\n",
       "      <td>0.000000</td>\n",
       "      <td>0.000000e+00</td>\n",
       "    </tr>\n",
       "    <tr>\n",
       "      <th>고객수(백만명)</th>\n",
       "      <td>-0.000000</td>\n",
       "      <td>-0.000000</td>\n",
       "      <td>-0.000000</td>\n",
       "      <td>-0.000000</td>\n",
       "      <td>-0.000000e+00</td>\n",
       "    </tr>\n",
       "    <tr>\n",
       "      <th>SNS 팔로워 수(백만명)</th>\n",
       "      <td>0.000000</td>\n",
       "      <td>0.000000</td>\n",
       "      <td>0.000000</td>\n",
       "      <td>0.000000</td>\n",
       "      <td>0.000000e+00</td>\n",
       "    </tr>\n",
       "    <tr>\n",
       "      <th>기업가치(백억원)</th>\n",
       "      <td>0.000000</td>\n",
       "      <td>0.000000</td>\n",
       "      <td>0.000000</td>\n",
       "      <td>0.000000</td>\n",
       "      <td>0.000000e+00</td>\n",
       "    </tr>\n",
       "    <tr>\n",
       "      <th>연매출(억원)</th>\n",
       "      <td>-0.000001</td>\n",
       "      <td>-0.000001</td>\n",
       "      <td>-0.000001</td>\n",
       "      <td>-0.000001</td>\n",
       "      <td>-9.803970e-07</td>\n",
       "    </tr>\n",
       "    <tr>\n",
       "      <th>직원 수</th>\n",
       "      <td>-0.000002</td>\n",
       "      <td>-0.000002</td>\n",
       "      <td>-0.000002</td>\n",
       "      <td>-0.000001</td>\n",
       "      <td>-3.137194e-07</td>\n",
       "    </tr>\n",
       "    <tr>\n",
       "      <th>총 투자금(억원)</th>\n",
       "      <td>-0.000002</td>\n",
       "      <td>-0.000002</td>\n",
       "      <td>-0.000002</td>\n",
       "      <td>-0.000002</td>\n",
       "      <td>-9.929597e-07</td>\n",
       "    </tr>\n",
       "  </tbody>\n",
       "</table>\n",
       "</div>"
      ],
      "text/plain": [
       "                alpha:0.07  alpha:0.1  alpha:0.5   alpha:1       alpha:3\n",
       "설립연도              0.000000   0.000000   0.000000  0.000000  0.000000e+00\n",
       "국가                0.000000   0.000000   0.000000  0.000000  0.000000e+00\n",
       "분야               -0.000000  -0.000000  -0.000000 -0.000000 -0.000000e+00\n",
       "투자단계             -0.000000  -0.000000  -0.000000 -0.000000 -0.000000e+00\n",
       "인수여부             -0.000000  -0.000000  -0.000000 -0.000000 -0.000000e+00\n",
       "상장여부              0.000000   0.000000   0.000000  0.000000  0.000000e+00\n",
       "고객수(백만명)         -0.000000  -0.000000  -0.000000 -0.000000 -0.000000e+00\n",
       "SNS 팔로워 수(백만명)    0.000000   0.000000   0.000000  0.000000  0.000000e+00\n",
       "기업가치(백억원)         0.000000   0.000000   0.000000  0.000000  0.000000e+00\n",
       "연매출(억원)          -0.000001  -0.000001  -0.000001 -0.000001 -9.803970e-07\n",
       "직원 수             -0.000002  -0.000002  -0.000002 -0.000001 -3.137194e-07\n",
       "총 투자금(억원)        -0.000002  -0.000002  -0.000002 -0.000002 -9.929597e-07"
      ]
     },
     "execution_count": 23,
     "metadata": {},
     "output_type": "execute_result"
    }
   ],
   "source": [
    "sort_column = 'alpha:'+str(Lasso_alphas[0])\n",
    "coeff_lasso_df.sort_values(by=sort_column, ascending=False)"
   ]
  },
  {
   "cell_type": "code",
   "execution_count": 24,
   "id": "015b5ddf",
   "metadata": {},
   "outputs": [],
   "source": [
    "model = Lasso(alpha=3)\n",
    "model.fit(X_data, y_target)\n",
    "\n",
    "y_pred = np.dot(test, model.coef_) + model.intercept_\n",
    "sample_submission['성공확률'] = y_pred\n",
    "sample_submission.to_csv('./submission/lasso_submission.csv', index=False, encoding='utf-8-sig')"
   ]
  },
  {
   "cell_type": "markdown",
   "id": "a2063f19",
   "metadata": {},
   "source": [
    "<h2>엘라스틱넷</h2>"
   ]
  },
  {
   "cell_type": "code",
   "execution_count": 28,
   "id": "e590492a",
   "metadata": {},
   "outputs": [
    {
     "name": "stdout",
     "output_type": "stream",
     "text": [
      "#######  ElasticNet  ########\n",
      "alpha 0.07일 때 5 폴드 세트의 평균 RMSE: 0.242\n",
      "alpha 0.1일 때 5 폴드 세트의 평균 RMSE: 0.242\n",
      "alpha 0.5일 때 5 폴드 세트의 평균 RMSE: 0.242\n",
      "alpha 1일 때 5 폴드 세트의 평균 RMSE: 0.242\n",
      "alpha 3일 때 5 폴드 세트의 평균 RMSE: 0.242\n"
     ]
    }
   ],
   "source": [
    "# 엘라스틱넷에 사용될 alpha 파라미터의 값들을 정의하고 get_linear_reg_eval() 함수 호출\n",
    "# l1_ratio는 0.7로 고정\n",
    "elastic_alphas = [0.07, 0.1, 0.5, 1, 3]\n",
    "coeff_elastic_df = get_linear_reg_eval('ElasticNet', params=elastic_alphas, X_data_n=X_data, y_target_n=y_target)"
   ]
  },
  {
   "cell_type": "code",
   "execution_count": 41,
   "id": "59968534",
   "metadata": {},
   "outputs": [
    {
     "name": "stdout",
     "output_type": "stream",
     "text": [
      "0.021544346900318832 0.07\n",
      "[-0.06166631 -0.05835519 -0.05825843 -0.05849709 -0.05580735]\n"
     ]
    }
   ],
   "source": [
    "model = ElasticNetCV(\n",
    "    l1_ratio=[0.07, 0.1, 0.3],   # L1 비율 후보들\n",
    "    alphas=np.logspace(-3, 1, 10),       # alpha 값 후보들\n",
    "    cv=5,                                # 5-fold 교차검증\n",
    "    random_state=42\n",
    ")\n",
    "model.fit(X_data, y_target)\n",
    "\n",
    "neg_mse_scores = cross_val_score(model, X_data, y_target, scoring=\"neg_mean_squared_error\", cv=5)\n",
    "\n",
    "print(model.alpha_, model.l1_ratio_)\n",
    "print(neg_mse_scores)"
   ]
  },
  {
   "cell_type": "code",
   "execution_count": 44,
   "id": "dd66578d",
   "metadata": {},
   "outputs": [],
   "source": [
    "y_pred = np.dot(test, model.coef_) + model.intercept_\n",
    "sample_submission['성공확률'] = y_pred\n",
    "sample_submission.to_csv('./submission/ElasticNet.csv', index=False, encoding='utf-8-sig')"
   ]
  },
  {
   "cell_type": "code",
   "execution_count": null,
   "id": "028dcadd",
   "metadata": {},
   "outputs": [],
   "source": []
  }
 ],
 "metadata": {
  "kernelspec": {
   "display_name": "base",
   "language": "python",
   "name": "python3"
  },
  "language_info": {
   "codemirror_mode": {
    "name": "ipython",
    "version": 3
   },
   "file_extension": ".py",
   "mimetype": "text/x-python",
   "name": "python",
   "nbconvert_exporter": "python",
   "pygments_lexer": "ipython3",
   "version": "3.12.4"
  }
 },
 "nbformat": 4,
 "nbformat_minor": 5
}
