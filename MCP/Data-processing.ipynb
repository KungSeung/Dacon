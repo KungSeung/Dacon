{
 "cells": [
  {
   "cell_type": "markdown",
   "id": "a908308c",
   "metadata": {},
   "source": [
    "Document"
   ]
  },
  {
   "cell_type": "code",
   "execution_count": null,
   "id": "0de252d5",
   "metadata": {},
   "outputs": [
    {
     "data": {
      "text/plain": [
       "{'id': None,\n",
       " 'metadata': {},\n",
       " 'page_content': '안녕하세요? 이건 랭체인의 도큐먼트 입니다',\n",
       " 'type': 'Document'}"
      ]
     },
     "execution_count": 1,
     "metadata": {},
     "output_type": "execute_result"
    }
   ],
   "source": [
    "from langchain_core.documents import Document\n",
    "\n",
    "document = Document('안녕하세요? 이건 랭체인의 도큐먼트 입니다')\n",
    "document.__dict__\n",
    "# page_content : 문서의 내용을 나타내는 문열\n",
    "# metadata : 문서의 메타데이터를 나타내는 딕셔너리"
   ]
  },
  {
   "cell_type": "code",
   "execution_count": 2,
   "id": "47e3d0a8",
   "metadata": {},
   "outputs": [
    {
     "data": {
      "text/plain": [
       "{'source': 'TeddyNote', 'page': 1, 'author': 'Teddy'}"
      ]
     },
     "execution_count": 2,
     "metadata": {},
     "output_type": "execute_result"
    }
   ],
   "source": [
    "# 메타데이터 추가\n",
    "document.metadata['source'] = \"TeddyNote\"\n",
    "document.metadata['page'] = 1\n",
    "document.metadata['author'] = \"Teddy\"\n",
    "\n",
    "document.metadata"
   ]
  },
  {
   "cell_type": "markdown",
   "id": "cccfeab5",
   "metadata": {},
   "source": [
    "Document Loader"
   ]
  },
  {
   "cell_type": "code",
   "execution_count": null,
   "id": "bf908cc1",
   "metadata": {},
   "outputs": [],
   "source": [
    "# PyPDFLoader : PDF 파일을 로드하는 로더\n",
    "# CSVLoader : CSV 파일을 로드하는 로더\n",
    "# UnstructuredHTMLLoader : HTML 파일을 로드하는 로더\n",
    "# JSONLoader : JSON 파일을 로드하는 로더\n",
    "# TextLoader : 텍스트 파일을 로드하는 로더\n",
    "# DirectoryLoader : 디렉토리를 로드하는 로더\n",
    "\n",
    "from langchain_\n",
    "File_Path = '~.pdf'\n"
   ]
  }
 ],
 "metadata": {
  "kernelspec": {
   "display_name": "base",
   "language": "python",
   "name": "python3"
  },
  "language_info": {
   "codemirror_mode": {
    "name": "ipython",
    "version": 3
   },
   "file_extension": ".py",
   "mimetype": "text/x-python",
   "name": "python",
   "nbconvert_exporter": "python",
   "pygments_lexer": "ipython3",
   "version": "3.12.4"
  }
 },
 "nbformat": 4,
 "nbformat_minor": 5
}
